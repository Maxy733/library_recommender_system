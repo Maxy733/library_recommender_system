{
 "cells": [
  {
   "cell_type": "code",
   "id": "initial_id",
   "metadata": {
    "collapsed": true,
    "jupyter": {
     "is_executing": true
    },
    "ExecuteTime": {
     "start_time": "2025-07-06T18:35:38.254707Z"
    }
   },
   "source": [
    "import pandas as pd\n",
    "from langdetect import detect\n",
    "\n",
    "# STEP 1: Load the dataset with proper encoding\n",
    "df = pd.read_csv(\"1.csv\", encoding='ISO-8859-1')\n",
    "\n",
    "# STEP 2: Rename columns for easier access\n",
    "df.rename(columns={\n",
    "    'ItemNo.': 'item_no',\n",
    "    'Author': 'author',\n",
    "    'Title': 'title',\n",
    "    'Edition': 'edition',\n",
    "    'Imprint': 'imprint',\n",
    "    'Date1': 'date',\n",
    "    'Call No.': 'call_no'\n",
    "}, inplace=True)\n",
    "\n",
    "# STEP 3: Drop rows missing essential info (title or author)\n",
    "df.dropna(subset=['title', 'author'], inplace=True)\n",
    "\n",
    "# STEP 4: Fill missing optional fields with blank\n",
    "for col in ['edition', 'imprint', 'date']:\n",
    "    df[col] = df[col].fillna('')\n",
    "\n",
    "# STEP 5: Clean text: lowercase + strip spaces\n",
    "for col in ['title', 'author', 'edition', 'imprint']:\n",
    "    df[col] = df[col].astype(str).str.strip().str.lower()\n",
    "\n",
    "# STEP 6: Format date as string\n",
    "df['date'] = df['date'].astype(str).str.replace('.0', '', regex=False).str.strip()\n",
    "\n",
    "# STEP 7: Create combined 'content' column\n",
    "df['content'] = (\n",
    "    df['title'] + ' ' +\n",
    "    df['author'] + ' ' +\n",
    "    df['edition'] + ' ' +\n",
    "    df['imprint'] + ' ' +\n",
    "    df['date']\n",
    ")\n",
    "\n",
    "# STEP 8: Remove duplicates based on item number, title, and author\n",
    "df.drop_duplicates(subset=['item_no', 'title', 'author'], inplace=True)\n",
    "\n",
    "# STEP 9: Keep only English entries\n",
    "def is_english(text):\n",
    "    try:\n",
    "        return detect(text) == 'en'\n",
    "    except:\n",
    "        return False\n",
    "\n",
    "print(\"🌍 Filtering non-English rows...\")\n",
    "df = df[df['content'].apply(is_english)]\n",
    "\n",
    "# STEP 10: Save the cleaned data\n",
    "df.to_csv(\"cleaned_books.csv\", index=False)\n",
    "print(\"✅ Cleaned dataset saved as 'cleaned_books.csv'\")\n"
   ],
   "outputs": [
    {
     "name": "stdout",
     "output_type": "stream",
     "text": [
      "🌍 Filtering non-English rows...\n"
     ]
    }
   ],
   "execution_count": null
  }
 ],
 "metadata": {
  "kernelspec": {
   "display_name": "Python 3",
   "language": "python",
   "name": "python3"
  },
  "language_info": {
   "codemirror_mode": {
    "name": "ipython",
    "version": 2
   },
   "file_extension": ".py",
   "mimetype": "text/x-python",
   "name": "python",
   "nbconvert_exporter": "python",
   "pygments_lexer": "ipython2",
   "version": "2.7.6"
  }
 },
 "nbformat": 4,
 "nbformat_minor": 5
}
