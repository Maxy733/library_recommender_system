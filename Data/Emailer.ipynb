{
 "cells": [
  {
   "cell_type": "code",
   "id": "initial_id",
   "metadata": {
    "collapsed": true,
    "ExecuteTime": {
     "end_time": "2025-07-06T18:39:11.577054Z",
     "start_time": "2025-07-06T18:39:11.567246Z"
    }
   },
   "source": [
    "import smtplib\n",
    "from email.mime.text import MIMEText\n",
    "\n",
    "def send_email(to_email, recommendations):\n",
    "    body = \"📚 Your Book Recommendations:\\n\\n\"\n",
    "    for book in recommendations:\n",
    "        body += f\"- {book['title'].title()} by {book['author'].title()} ({book['edition']}, {book['imprint']}, {book['date']})\\n\"\n",
    "\n",
    "    msg = MIMEText(body)\n",
    "    msg['Subject'] = \"Your Book Recommendations\"\n",
    "    msg['From'] = \"your_email@example.com\"  # replace with your Gmail\n",
    "    msg['To'] = to_email\n",
    "\n",
    "    # Connect to Gmail SMTP server\n",
    "    with smtplib.SMTP_SSL(\"smtp.gmail.com\", 465) as server:\n",
    "        server.login(\"your_email@example.com\", \"your_app_password\")  # ⚠️ App password, not your login password\n",
    "        server.send_message(msg)\n"
   ],
   "outputs": [],
   "execution_count": 1
  }
 ],
 "metadata": {
  "kernelspec": {
   "display_name": "Python 3",
   "language": "python",
   "name": "python3"
  },
  "language_info": {
   "codemirror_mode": {
    "name": "ipython",
    "version": 2
   },
   "file_extension": ".py",
   "mimetype": "text/x-python",
   "name": "python",
   "nbconvert_exporter": "python",
   "pygments_lexer": "ipython2",
   "version": "2.7.6"
  }
 },
 "nbformat": 4,
 "nbformat_minor": 5
}
